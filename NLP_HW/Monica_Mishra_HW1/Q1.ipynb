{
 "cells": [
  {
   "cell_type": "markdown",
   "metadata": {},
   "source": [
    "# Q1\n",
    "\n",
    "Given the following short documents (1-8), each labeled with a class:\n",
    "1. banana, carrot, cucumber, pea : vegetable\n",
    "2. school, pea, rose, lily, basket : \n",
    "ower\n",
    "3. banana, pea, potato, lotus : vegetable\n",
    "4. hibiscus, grape, potato, mango, apple : fruit\n",
    "5. hibiscus, lotus, lily, apple, banana : fruit\n",
    "6. rose, hibiscus, banana, rose : \n",
    "ower\n",
    "7. rose, rose, rose, cucumber : \n",
    "ower\n",
    "8. carrot, mango, grape, rose : fruit\n",
    "\n",
    "And documents:\n",
    "1. D1 : rose, lily, apple, carrot\n",
    "2. D2 : pea, pea, lotus, grape\n",
    "Compute the most likely class for D1 and D2. Assume a Naive Bayes classi\f",
    "er and use\n",
    "add-lambda smoothing (with lambda = 0.1) for the likelihood."
   ]
  },
  {
   "cell_type": "code",
   "execution_count": 1,
   "metadata": {
    "collapsed": true
   },
   "outputs": [],
   "source": [
    "import re\n",
    "import math"
   ]
  },
  {
   "cell_type": "code",
   "execution_count": 2,
   "metadata": {
    "collapsed": true
   },
   "outputs": [],
   "source": [
    "data = \"\"\"\n",
    "1. banana, carrot, cucumber, pea : vegetable\n",
    "2. school, pea, rose, lily, basket : flower\n",
    "3. banana, pea, potato, lotus : vegetable\n",
    "4. hibiscus, grape, potato, mango, apple : fruit\n",
    "5. hibiscus, lotus, lily, apple, banana : fruit\n",
    "6. rose, hibiscus, banana, rose : flower\n",
    "7. rose, rose, rose, cucumber : flower\n",
    "8. carrot, mango, grape, rose : fruit\n",
    "\"\"\""
   ]
  },
  {
   "cell_type": "code",
   "execution_count": 3,
   "metadata": {
    "collapsed": true
   },
   "outputs": [],
   "source": [
    "doc = \"\"\"\n",
    "1. rose, lily, apple, carrot : D1\n",
    "2. pea, pea, lotus, grape : D2\n",
    "\"\"\""
   ]
  },
  {
   "cell_type": "code",
   "execution_count": 4,
   "metadata": {
    "collapsed": true
   },
   "outputs": [],
   "source": [
    "def function_to_format_data(data):\n",
    "    dict_label = {}\n",
    "    data = data.split(\"\\n\")\n",
    "    number_docs = 0\n",
    "    count_p_label = {}\n",
    "    for each_line in data:\n",
    "        if each_line:\n",
    "            data_in_each_line = each_line.strip().split(\". \")[1].split(\" : \")\n",
    "            label = data_in_each_line[1]\n",
    "            if label not in dict_label:\n",
    "                dict_label[label] = data_in_each_line[0].split(\", \")\n",
    "                count_p_label[label] = 1\n",
    "            else:\n",
    "                dict_label[label].extend(data_in_each_line[0].split(\", \"))\n",
    "                count_p_label[label] += 1\n",
    "            number_docs += 1\n",
    "    print (count_p_label)\n",
    "    count_per_label = {i:count_p_label[i]/number_docs for i in count_p_label} \n",
    "    return dict_label, count_per_label\n"
   ]
  },
  {
   "cell_type": "code",
   "execution_count": 5,
   "metadata": {},
   "outputs": [
    {
     "name": "stdout",
     "output_type": "stream",
     "text": [
      "{'vegetable': 2, 'flower': 3, 'fruit': 3}\n",
      "{'D1': 1, 'D2': 1}\n"
     ]
    }
   ],
   "source": [
    "## format data and get the count for classes\n",
    "dict_label_class, count_per_label = function_to_format_data(data)\n",
    "dict_label_doc, _ = function_to_format_data(doc)"
   ]
  },
  {
   "cell_type": "code",
   "execution_count": 6,
   "metadata": {},
   "outputs": [
    {
     "data": {
      "text/plain": [
       "{'flower': 0.375, 'fruit': 0.375, 'vegetable': 0.25}"
      ]
     },
     "execution_count": 6,
     "metadata": {},
     "output_type": "execute_result"
    }
   ],
   "source": [
    "## probability per class\n",
    "count_per_label"
   ]
  },
  {
   "cell_type": "code",
   "execution_count": 8,
   "metadata": {
    "collapsed": true
   },
   "outputs": [],
   "source": [
    "## Naive Bayes P(C/D) = (P(C)P(D/C))/P(D) but since P(D) is common to measure across all\n",
    "## P(D/C) = Product over all words ((count(w,C) + 1)/ count(c) + |V|)\n",
    "def prob_per_class(doc_words, dict_label_class, class_id):\n",
    "    vocab = len(set([i for j in dict_label_class.values() for i in j]))\n",
    "    prob_d_c = 1\n",
    "    lambda_val = 0.1\n",
    "    for i in doc_words:\n",
    "        prob_d_c *= (dict_label_class[class_id].count(i) + lambda_val)/(len(dict_label_class[class_id]) + vocab*lambda_val)\n",
    "    return prob_d_c"
   ]
  },
  {
   "cell_type": "code",
   "execution_count": 9,
   "metadata": {},
   "outputs": [
    {
     "name": "stdout",
     "output_type": "stream",
     "text": [
      "{'D1': ['rose', 'lily', 'apple', 'carrot'], 'D2': ['pea', 'pea', 'lotus', 'grape']}\n",
      "{'vegetable': 3.522258934549205e-08, 'flower': 5.85199329043067e-07, 'fruit': 1.8635701033660223e-05}\n",
      "{'vegetable': 1.5533161901361992e-05, 'flower': 1.0552774786022522e-07, 'fruit': 1.5401405812942332e-07}\n"
     ]
    },
    {
     "data": {
      "text/plain": [
       "{'D1': 'fruit', 'D2': 'vegetable'}"
      ]
     },
     "execution_count": 9,
     "metadata": {},
     "output_type": "execute_result"
    }
   ],
   "source": [
    "## calculate naive bayes for each class\n",
    "dict_doc_class = {}\n",
    "prob_c = {}\n",
    "print (dict_label_doc)\n",
    "for doc in dict_label_doc:\n",
    "    per_doc_class = {}\n",
    "    for class_id in dict_label_class:\n",
    "        doc_words = dict_label_doc[doc]\n",
    "        prod_d_c = prob_per_class(doc_words, dict_label_class, class_id)\n",
    "        prod_d_c *= count_per_label[class_id]\n",
    "        per_doc_class[class_id] = prod_d_c\n",
    "    print (per_doc_class)\n",
    "    dict_doc_class[doc] = max(per_doc_class, key = per_doc_class.get)\n",
    "dict_doc_class"
   ]
  }
 ],
 "metadata": {
  "kernelspec": {
   "display_name": "Python 3",
   "language": "python",
   "name": "python3"
  },
  "language_info": {
   "codemirror_mode": {
    "name": "ipython",
    "version": 3
   },
   "file_extension": ".py",
   "mimetype": "text/x-python",
   "name": "python",
   "nbconvert_exporter": "python",
   "pygments_lexer": "ipython3",
   "version": "3.7.4"
  }
 },
 "nbformat": 4,
 "nbformat_minor": 2
}
