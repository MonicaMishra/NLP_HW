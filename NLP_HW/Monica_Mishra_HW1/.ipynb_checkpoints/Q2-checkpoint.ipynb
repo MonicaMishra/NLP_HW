{
 "cells": [
  {
   "cell_type": "markdown",
   "metadata": {},
   "source": [
    "# Q2\n",
    "UsingWordNet http://wordnetweb.princeton.edu/perl/webwn determine the total num-\n",
    "ber of senses for each open class word.\n"
   ]
  },
  {
   "cell_type": "code",
   "execution_count": 1,
   "metadata": {
    "collapsed": true
   },
   "outputs": [],
   "source": [
    "from bs4 import BeautifulSoup\n",
    "import nltk \n",
    "import requests\n",
    "import string"
   ]
  },
  {
   "cell_type": "markdown",
   "metadata": {},
   "source": [
    "# 2.1\n",
    "For each sentence, determine how many distinct combinations of senses exist using WordNet\n",
    "(http://wordnetweb.princeton.edu/perl/webwn)."
   ]
  },
  {
   "cell_type": "code",
   "execution_count": 2,
   "metadata": {
    "collapsed": true
   },
   "outputs": [],
   "source": [
    "words_string = \"\"\"In the cold weather, they started to the city. They were least worried protecting themselves\n",
    "against the common cold. After she signed the agreement, a cold chill crept up her spine. Chill, \n",
    "its not that serious,\" her husband assured and left to deposit cash at the bank.\n",
    "\"\"\"\n",
    "\n",
    "## tokenize the word and remove punctuation\n",
    "words = nltk.tokenize.word_tokenize(words_string)\n",
    "words = [i.lower() for i in words if i not in string.punctuation and i != \"''\"]"
   ]
  },
  {
   "cell_type": "code",
   "execution_count": 3,
   "metadata": {},
   "outputs": [
    {
     "name": "stdout",
     "output_type": "stream",
     "text": [
      "{'in': 7, 'the': 0, 'cold': 16, 'weather': 6, 'they': 0, 'started': 14, 'to': 0, 'city': 3, 'were': 13, 'least': 12, 'worried': 8, 'protecting': 3, 'themselves': 0, 'against': 0, 'common': 10, 'after': 3, 'she': 0, 'signed': 10, 'agreement': 6, 'a': 7, 'chill': 7, 'crept': 4, 'up': 14, 'her': 0, 'spine': 5, 'its': 1, 'not': 1, 'that': 0, 'serious': 6, 'husband': 2, 'assured': 8, 'and': 0, 'left': 24, 'deposit': 12, 'cash': 4, 'at': 2, 'bank': 18}\n"
     ]
    }
   ],
   "source": [
    "## send the word to the link and get its count\n",
    "word_count = {}\n",
    "for i in words:\n",
    "    link = \"http://wordnetweb.princeton.edu/perl/webwn?s=\"+i+\"&sub=Search+WordNet\"\n",
    "    f = requests.get(link)\n",
    "    get_content = BeautifulSoup(f.text,\"lxml\")\n",
    "    if \"Your search did not return any results\" not in get_content.text:\n",
    "        word_count[i] = get_content.text.count(\"\\nS:\")\n",
    "    else:\n",
    "        word_count[i] = 0\n",
    "\n",
    "print (word_count)\n",
    "    "
   ]
  },
  {
   "cell_type": "markdown",
   "metadata": {},
   "source": [
    "# 2.2 \n",
    "For each sentence, determine how many distinct combinations of senses exist using WordNet\n",
    "(http://wordnetweb.princeton.edu/perl/webwn)."
   ]
  },
  {
   "cell_type": "code",
   "execution_count": 4,
   "metadata": {
    "collapsed": true
   },
   "outputs": [],
   "source": [
    "## bring down word to its root name and modfiy manually further if needed\n",
    "snowball_stemmer = nltk.stem.snowball.SnowballStemmer(\"english\")"
   ]
  },
  {
   "cell_type": "code",
   "execution_count": 5,
   "metadata": {
    "collapsed": true
   },
   "outputs": [],
   "source": [
    "new_words_list = ['in',\n",
    " 'the',\n",
    " 'cold',\n",
    " 'weather',\n",
    " 'they',\n",
    " 'start',\n",
    " 'to',\n",
    " 'the',\n",
    " 'city',\n",
    " 'they',\n",
    " 'were',\n",
    " 'least',\n",
    " 'worry',\n",
    " 'protect',\n",
    " 'them',\n",
    " 'against',\n",
    " 'the',\n",
    " 'common',\n",
    " 'cold',\n",
    " 'after',\n",
    " 'she',\n",
    " 'sign',\n",
    " 'the',\n",
    " 'agree',\n",
    " 'a',\n",
    " 'cold',\n",
    " 'chill',\n",
    " 'crept',\n",
    " 'up',\n",
    " 'her',\n",
    " 'spine',\n",
    " 'chill',\n",
    " 'it',\n",
    " 'not',\n",
    " 'that',\n",
    " 'serious',\n",
    " 'her',\n",
    " 'husband',\n",
    " 'assure',\n",
    " 'and',\n",
    " 'left',\n",
    " 'to',\n",
    " 'deposit',\n",
    " 'cash',\n",
    " 'at',\n",
    " 'the',\n",
    " 'bank']\n"
   ]
  },
  {
   "cell_type": "code",
   "execution_count": 6,
   "metadata": {},
   "outputs": [
    {
     "name": "stdout",
     "output_type": "stream",
     "text": [
      "{'in': 7, 'the': 0, 'cold': 16, 'weather': 6, 'they': 0, 'start': 22, 'to': 0, 'city': 3, 'were': 13, 'least': 12, 'worry': 8, 'protect': 2, 'them': 0, 'against': 0, 'common': 10, 'after': 3, 'she': 0, 'sign': 20, 'agree': 7, 'a': 7, 'chill': 7, 'crept': 4, 'up': 14, 'her': 0, 'spine': 5, 'it': 1, 'not': 1, 'that': 0, 'serious': 6, 'husband': 2, 'assure': 6, 'and': 0, 'left': 24, 'deposit': 12, 'cash': 4, 'at': 2, 'bank': 18}\n"
     ]
    }
   ],
   "source": [
    "## count the word sense for their root name\n",
    "word_count_origin = {}\n",
    "for i in new_words_list:\n",
    "    link = \"http://wordnetweb.princeton.edu/perl/webwn?s=\"+i+\"&sub=Search+WordNet\"\n",
    "    f = requests.get(link)\n",
    "    get_content = BeautifulSoup(f.text,\"lxml\")\n",
    "    if \"Your search did not return any results\" not in get_content.text:\n",
    "        word_count_origin[i] = get_content.text.count(\"\\nS:\")\n",
    "    else:\n",
    "        word_count_origin[i] = 0\n",
    "\n",
    "print (word_count_origin)\n",
    "    "
   ]
  },
  {
   "cell_type": "code",
   "execution_count": null,
   "metadata": {
    "collapsed": true
   },
   "outputs": [],
   "source": []
  }
 ],
 "metadata": {
  "kernelspec": {
   "display_name": "Python 3",
   "language": "python",
   "name": "python3"
  },
  "language_info": {
   "codemirror_mode": {
    "name": "ipython",
    "version": 3
   },
   "file_extension": ".py",
   "mimetype": "text/x-python",
   "name": "python",
   "nbconvert_exporter": "python",
   "pygments_lexer": "ipython3",
   "version": "3.7.4"
  }
 },
 "nbformat": 4,
 "nbformat_minor": 2
}
